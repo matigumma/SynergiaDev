{
 "cells": [
  {
   "cell_type": "code",
   "execution_count": 1,
   "metadata": {},
   "outputs": [
    {
     "name": "stdout",
     "output_type": "stream",
     "text": [
      "Requirement already satisfied: openai in ./.venv/lib/python3.11/site-packages (1.76.0)\n",
      "Requirement already satisfied: anyio<5,>=3.5.0 in ./.venv/lib/python3.11/site-packages (from openai) (4.9.0)\n",
      "Requirement already satisfied: distro<2,>=1.7.0 in ./.venv/lib/python3.11/site-packages (from openai) (1.9.0)\n",
      "Requirement already satisfied: httpx<1,>=0.23.0 in ./.venv/lib/python3.11/site-packages (from openai) (0.28.1)\n",
      "Requirement already satisfied: jiter<1,>=0.4.0 in ./.venv/lib/python3.11/site-packages (from openai) (0.9.0)\n",
      "Requirement already satisfied: pydantic<3,>=1.9.0 in ./.venv/lib/python3.11/site-packages (from openai) (2.11.3)\n",
      "Requirement already satisfied: sniffio in ./.venv/lib/python3.11/site-packages (from openai) (1.3.1)\n",
      "Requirement already satisfied: tqdm>4 in ./.venv/lib/python3.11/site-packages (from openai) (4.67.1)\n",
      "Requirement already satisfied: typing-extensions<5,>=4.11 in ./.venv/lib/python3.11/site-packages (from openai) (4.13.2)\n",
      "Requirement already satisfied: idna>=2.8 in ./.venv/lib/python3.11/site-packages (from anyio<5,>=3.5.0->openai) (3.10)\n",
      "Requirement already satisfied: certifi in ./.venv/lib/python3.11/site-packages (from httpx<1,>=0.23.0->openai) (2025.1.31)\n",
      "Requirement already satisfied: httpcore==1.* in ./.venv/lib/python3.11/site-packages (from httpx<1,>=0.23.0->openai) (1.0.8)\n",
      "Requirement already satisfied: h11<0.15,>=0.13 in ./.venv/lib/python3.11/site-packages (from httpcore==1.*->httpx<1,>=0.23.0->openai) (0.14.0)\n",
      "Requirement already satisfied: annotated-types>=0.6.0 in ./.venv/lib/python3.11/site-packages (from pydantic<3,>=1.9.0->openai) (0.7.0)\n",
      "Requirement already satisfied: pydantic-core==2.33.1 in ./.venv/lib/python3.11/site-packages (from pydantic<3,>=1.9.0->openai) (2.33.1)\n",
      "Requirement already satisfied: typing-inspection>=0.4.0 in ./.venv/lib/python3.11/site-packages (from pydantic<3,>=1.9.0->openai) (0.4.0)\n"
     ]
    }
   ],
   "source": [
    "!pip install openai"
   ]
  },
  {
   "cell_type": "code",
   "execution_count": 2,
   "metadata": {},
   "outputs": [],
   "source": [
    "import getpass\n",
    "import os\n",
    "\n",
    "# set env for openai key:\n",
    "\n",
    "if not os.environ.get(\"OPENAI_API_KEY\"):\n",
    "  os.environ[\"OPENAI_API_KEY\"] = getpass.getpass(\"Enter API key for OpenAI: \")"
   ]
  },
  {
   "cell_type": "code",
   "execution_count": 3,
   "metadata": {},
   "outputs": [],
   "source": [
    "from openai import OpenAI\n",
    "import pprint\n",
    "client = OpenAI()"
   ]
  },
  {
   "cell_type": "code",
   "execution_count": 4,
   "metadata": {},
   "outputs": [
    {
     "name": "stdout",
     "output_type": "stream",
     "text": [
      "```jsx\n",
      "import React from 'react';\n",
      "\n",
      "function UserProfileForm() {\n",
      "  return (\n",
      "    <form>\n",
      "      <h1>User Profile</h1>\n",
      "      <label>\n",
      "        First Name\n",
      "        <input type=\"text\" placeholder=\"Enter your first name\" />\n",
      "      </label>\n",
      "      <br />\n",
      "      <label>\n",
      "        Last Name\n",
      "        <input type=\"text\" placeholder=\"Enter your last name\" />\n",
      "      </label>\n",
      "      <br />\n",
      "      <label>\n",
      "        Email\n",
      "        <input type=\"email\" placeholder=\"Enter your email\" />\n",
      "      </label>\n",
      "      <br />\n",
      "      <label>\n",
      "        Phone Number\n",
      "        <input type=\"tel\" placeholder=\"Enter your phone number\" />\n",
      "      </label>\n",
      "      <br />\n",
      "      <label>\n",
      "        Address\n",
      "        <input type=\"text\" placeholder=\"Enter your address\" />\n",
      "      </label>\n",
      "      <br />\n",
      "      <label>\n",
      "        Profile Picture\n",
      "        <input type=\"file\" />\n",
      "      </label>\n",
      "      <br />\n",
      "      <button type=\"submit\">Submit</button>\n",
      "    </form>\n",
      "  );\n",
      "}\n",
      "\n",
      "export default UserProfileForm;\n",
      "```\n"
     ]
    }
   ],
   "source": [
    "from enum import Enum\n",
    "from typing import List\n",
    "\n",
    "from pydantic import BaseModel\n",
    "\n",
    "\n",
    "class UIType(str, Enum):\n",
    "    div = \"div\"\n",
    "    button = \"button\"\n",
    "    header = \"header\"\n",
    "    section = \"section\"\n",
    "    field = \"field\"\n",
    "    form = \"form\"\n",
    "\n",
    "class Attribute(BaseModel):\n",
    "    name: str\n",
    "    value: str\n",
    "\n",
    "class UI(BaseModel):\n",
    "    type: UIType\n",
    "    label: str\n",
    "    children: List[\"UI\"]\n",
    "    attributes: List[Attribute]\n",
    "\n",
    "UI.model_rebuild()  # This is required to enable recursive types\n",
    "\n",
    "class Response(BaseModel):\n",
    "    ui: UI\n",
    "\n",
    "response = client.responses.parse(\n",
    "    model=\"gpt-4o-2024-08-06\",\n",
    "    input=[\n",
    "        {\n",
    "            \"role\": \"system\",\n",
    "            \"content\": \"You are a UI generator AI. Convert the user input into a UI.\",\n",
    "        },\n",
    "        {\"role\": \"user\", \"content\": \"Make a User Profile Form\"},\n",
    "    ],\n",
    "    text_format=Response,\n",
    ")\n",
    "\n",
    "ui = response.output_parsed\n",
    "\n",
    "# chain? o seguimos la conversacion?\n",
    "\n",
    "chainUI = client.responses.create(\n",
    "    model=\"gpt-4o\",\n",
    "    previous_response_id=response.id, # esta es la forma de persistir el puntero de la llamada anterior\n",
    "    input=[{\"role\": \"user\", \"content\": \"convierte el UI en JSX y devuelve solo el codigo.\"}],\n",
    ")\n",
    "print(chainUI.output_text)\n"
   ]
  },
  {
   "cell_type": "markdown",
   "metadata": {},
   "source": [
    "# LANGCHAIN"
   ]
  },
  {
   "cell_type": "code",
   "execution_count": 5,
   "metadata": {},
   "outputs": [
    {
     "name": "stdout",
     "output_type": "stream",
     "text": [
      "Requirement already satisfied: langchain in ./.venv/lib/python3.11/site-packages (0.3.24)\n",
      "Requirement already satisfied: langchain-core<1.0.0,>=0.3.55 in ./.venv/lib/python3.11/site-packages (from langchain) (0.3.55)\n",
      "Requirement already satisfied: langchain-text-splitters<1.0.0,>=0.3.8 in ./.venv/lib/python3.11/site-packages (from langchain) (0.3.8)\n",
      "Requirement already satisfied: langsmith<0.4,>=0.1.17 in ./.venv/lib/python3.11/site-packages (from langchain) (0.3.33)\n",
      "Requirement already satisfied: pydantic<3.0.0,>=2.7.4 in ./.venv/lib/python3.11/site-packages (from langchain) (2.11.3)\n",
      "Requirement already satisfied: SQLAlchemy<3,>=1.4 in ./.venv/lib/python3.11/site-packages (from langchain) (2.0.40)\n",
      "Requirement already satisfied: requests<3,>=2 in ./.venv/lib/python3.11/site-packages (from langchain) (2.32.3)\n",
      "Requirement already satisfied: PyYAML>=5.3 in ./.venv/lib/python3.11/site-packages (from langchain) (6.0.2)\n",
      "Requirement already satisfied: tenacity!=8.4.0,<10.0.0,>=8.1.0 in ./.venv/lib/python3.11/site-packages (from langchain-core<1.0.0,>=0.3.55->langchain) (9.1.2)\n",
      "Requirement already satisfied: jsonpatch<2.0,>=1.33 in ./.venv/lib/python3.11/site-packages (from langchain-core<1.0.0,>=0.3.55->langchain) (1.33)\n",
      "Requirement already satisfied: packaging<25,>=23.2 in ./.venv/lib/python3.11/site-packages (from langchain-core<1.0.0,>=0.3.55->langchain) (24.2)\n",
      "Requirement already satisfied: typing-extensions>=4.7 in ./.venv/lib/python3.11/site-packages (from langchain-core<1.0.0,>=0.3.55->langchain) (4.13.2)\n",
      "Requirement already satisfied: httpx<1,>=0.23.0 in ./.venv/lib/python3.11/site-packages (from langsmith<0.4,>=0.1.17->langchain) (0.28.1)\n",
      "Requirement already satisfied: orjson<4.0.0,>=3.9.14 in ./.venv/lib/python3.11/site-packages (from langsmith<0.4,>=0.1.17->langchain) (3.10.16)\n",
      "Requirement already satisfied: requests-toolbelt<2.0.0,>=1.0.0 in ./.venv/lib/python3.11/site-packages (from langsmith<0.4,>=0.1.17->langchain) (1.0.0)\n",
      "Requirement already satisfied: zstandard<0.24.0,>=0.23.0 in ./.venv/lib/python3.11/site-packages (from langsmith<0.4,>=0.1.17->langchain) (0.23.0)\n",
      "Requirement already satisfied: annotated-types>=0.6.0 in ./.venv/lib/python3.11/site-packages (from pydantic<3.0.0,>=2.7.4->langchain) (0.7.0)\n",
      "Requirement already satisfied: pydantic-core==2.33.1 in ./.venv/lib/python3.11/site-packages (from pydantic<3.0.0,>=2.7.4->langchain) (2.33.1)\n",
      "Requirement already satisfied: typing-inspection>=0.4.0 in ./.venv/lib/python3.11/site-packages (from pydantic<3.0.0,>=2.7.4->langchain) (0.4.0)\n",
      "Requirement already satisfied: charset-normalizer<4,>=2 in ./.venv/lib/python3.11/site-packages (from requests<3,>=2->langchain) (3.4.1)\n",
      "Requirement already satisfied: idna<4,>=2.5 in ./.venv/lib/python3.11/site-packages (from requests<3,>=2->langchain) (3.10)\n",
      "Requirement already satisfied: urllib3<3,>=1.21.1 in ./.venv/lib/python3.11/site-packages (from requests<3,>=2->langchain) (2.4.0)\n",
      "Requirement already satisfied: certifi>=2017.4.17 in ./.venv/lib/python3.11/site-packages (from requests<3,>=2->langchain) (2025.1.31)\n",
      "Requirement already satisfied: anyio in ./.venv/lib/python3.11/site-packages (from httpx<1,>=0.23.0->langsmith<0.4,>=0.1.17->langchain) (4.9.0)\n",
      "Requirement already satisfied: httpcore==1.* in ./.venv/lib/python3.11/site-packages (from httpx<1,>=0.23.0->langsmith<0.4,>=0.1.17->langchain) (1.0.8)\n",
      "Requirement already satisfied: h11<0.15,>=0.13 in ./.venv/lib/python3.11/site-packages (from httpcore==1.*->httpx<1,>=0.23.0->langsmith<0.4,>=0.1.17->langchain) (0.14.0)\n",
      "Requirement already satisfied: jsonpointer>=1.9 in ./.venv/lib/python3.11/site-packages (from jsonpatch<2.0,>=1.33->langchain-core<1.0.0,>=0.3.55->langchain) (3.0.0)\n",
      "Requirement already satisfied: sniffio>=1.1 in ./.venv/lib/python3.11/site-packages (from anyio->httpx<1,>=0.23.0->langsmith<0.4,>=0.1.17->langchain) (1.3.1)\n"
     ]
    }
   ],
   "source": [
    "# https://python.langchain.com/docs/concepts/prompt_templates/\n",
    "# install langchain\n",
    "\n",
    "!pip install langchain\n",
    "!pip install -qU \"langchain[openai]\""
   ]
  },
  {
   "cell_type": "code",
   "execution_count": null,
   "metadata": {},
   "outputs": [
    {
     "name": "stdout",
     "output_type": "stream",
     "text": [
      "response.content:\n",
      "\n",
      "'¡Hola! Soy un desarrollador que está tratando de aprender sobre IA.\\n'\n",
      "response object:\n",
      "\n",
      "{'additional_kwargs': {'refusal': None},\n",
      " 'content': '¡Hola! Soy un desarrollador que está tratando de aprender sobre '\n",
      "            'IA.',\n",
      " 'example': False,\n",
      " 'id': 'run-a257c36c-6c22-4f0d-b6e6-4603c9c26fc3-0',\n",
      " 'invalid_tool_calls': [],\n",
      " 'name': None,\n",
      " 'response_metadata': {'finish_reason': 'stop',\n",
      "                       'id': 'chatcmpl-BPe7Ez0ryeo4arF36pBrhAfC7Qx8L',\n",
      "                       'logprobs': None,\n",
      "                       'model_name': 'gpt-4o-mini-2024-07-18',\n",
      "                       'system_fingerprint': 'fp_0392822090',\n",
      "                       'token_usage': {'completion_tokens': 16,\n",
      "                                       'completion_tokens_details': {'accepted_prediction_tokens': 0,\n",
      "                                                                     'audio_tokens': 0,\n",
      "                                                                     'reasoning_tokens': 0,\n",
      "                                                                     'rejected_prediction_tokens': 0},\n",
      "                                       'prompt_tokens': 27,\n",
      "                                       'prompt_tokens_details': {'audio_tokens': 0,\n",
      "                                                                 'cached_tokens': 0},\n",
      "                                       'total_tokens': 43}},\n",
      " 'tool_calls': [],\n",
      " 'type': 'ai',\n",
      " 'usage_metadata': {'input_token_details': {'audio': 0, 'cache_read': 0},\n",
      "                    'input_tokens': 27,\n",
      "                    'output_token_details': {'audio': 0, 'reasoning': 0},\n",
      "                    'output_tokens': 16,\n",
      "                    'total_tokens': 43}}\n"
     ]
    }
   ],
   "source": [
    "from langchain.prompts import ChatPromptTemplate\n",
    "from langchain.chat_models import init_chat_model\n",
    "from langchain_core.messages import HumanMessage, SystemMessage\n",
    "\n",
    "# Nivel 1 con langchain\n",
    "\n",
    "# define model to use\n",
    "model = init_chat_model(\"gpt-4o-mini\", model_provider=\"openai\")\n",
    "\n",
    "# message preparation:\n",
    "\n",
    "## using history messages:\n",
    "messages = [\n",
    "    SystemMessage(\"Translate the following from English into Spanish\"),\n",
    "    HumanMessage(\"hi! Im a developer trying to learn AI\"),\n",
    "]\n",
    "\n",
    "# LLM call\n",
    "\n",
    "## invoke chat completion\n",
    "response = model.invoke(messages)\n",
    "\n",
    "# print response text\n",
    "print(\"response.content:\\n\")\n",
    "pprint.pprint(response.content + \"\\n\\n\")\n",
    "print(\"response object:\\n\")\n",
    "pprint.pprint(response.model_dump())\n"
   ]
  },
  {
   "cell_type": "code",
   "execution_count": 8,
   "metadata": {},
   "outputs": [
    {
     "name": "stdout",
     "output_type": "stream",
     "text": [
      "('¡Hola! Por favor, toma las acciones recomendadas para actualizar tu '\n",
      " 'configuración.')\n"
     ]
    }
   ],
   "source": [
    "# GENERA EL TEXTO USANDO UN PROMPT CON VARIABLES EN LANGCHAIN\n",
    "# Nivel 4 con langchain\n",
    "\n",
    "## using template with variables\n",
    "system_template = \"Translate the following into {language}\" # variable on template interpolated with {var_name}\n",
    "\n",
    "prompt_template = ChatPromptTemplate.from_messages(\n",
    "    [\n",
    "        (\"system\", system_template), \n",
    "        (\"user\", \"{text}\")\n",
    "    ]\n",
    ")\n",
    "\n",
    "template_run = prompt_template | model\n",
    "\n",
    "prompt_template_response = template_run.invoke(\n",
    "    {\n",
    "        \"language\": \"Spanish\", \n",
    "        \"text\": \"hi! Please take the recommended actions to update your configuration\"\n",
    "    })\n",
    "\n",
    "pprint.pprint(prompt_template_response.content)\n",
    "\n"
   ]
  },
  {
   "cell_type": "code",
   "execution_count": 9,
   "metadata": {},
   "outputs": [
    {
     "name": "stdout",
     "output_type": "stream",
     "text": [
      "('Una efeméride importante en el mundo del fútbol es el 22 de junio de 1986, '\n",
      " 'fecha en la cual Diego Maradona anotó el famoso \"Gol de la Mano de Dios\" y '\n",
      " 'el \"Gol del Siglo\" durante el partido de cuartos de final de la Copa del '\n",
      " 'Mundo de la FIFA en México, donde Argentina se enfrentó a Inglaterra. Estos '\n",
      " 'dos goles se consideran algunos de los momentos más icónicos en la historia '\n",
      " 'del fútbol. Argentina ganó ese partido 2-1 y posteriormente se consagró '\n",
      " 'campeón del torneo.')\n"
     ]
    }
   ],
   "source": [
    "template_prompt = ChatPromptTemplate.from_template(\"Dime un efemeride del siguiente tema: {topic}\")\n",
    "\n",
    "chain = template_prompt | model\n",
    "response1 = chain.invoke({\"topic\": \"Futbol\"})\n",
    "pprint.pprint(response1.content)"
   ]
  }
 ],
 "metadata": {
  "kernelspec": {
   "display_name": ".venv",
   "language": "python",
   "name": "python3"
  },
  "language_info": {
   "codemirror_mode": {
    "name": "ipython",
    "version": 3
   },
   "file_extension": ".py",
   "mimetype": "text/x-python",
   "name": "python",
   "nbconvert_exporter": "python",
   "pygments_lexer": "ipython3",
   "version": "3.11.11"
  }
 },
 "nbformat": 4,
 "nbformat_minor": 2
}
